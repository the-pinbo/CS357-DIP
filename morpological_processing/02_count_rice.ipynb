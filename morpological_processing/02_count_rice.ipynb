{
 "cells": [
  {
   "cell_type": "code",
   "execution_count": null,
   "metadata": {},
   "outputs": [],
   "source": [
    "import cv2\n",
    "import numpy as np\n",
    "import matplotlib.pyplot as plt\n",
    "from skimage.io import imread, imshow\n",
    "from skimage.draw import disk\n",
    "from skimage.morphology import (erosion, dilation, closing, opening,\n",
    "                                area_closing, area_opening)\n",
    "from skimage.color import rgb2gray"
   ]
  },
  {
   "cell_type": "code",
   "execution_count": null,
   "metadata": {},
   "outputs": [],
   "source": [
    "img = cv2.imread(\"./images/rice.png\",0)\n",
    "\n",
    "plt.imshow(img,cmap='grey')\n",
    "plt.show()"
   ]
  },
  {
   "cell_type": "code",
   "execution_count": null,
   "metadata": {},
   "outputs": [],
   "source": [
    "plt.hist(img.flat, bins=100, range=(0,255))\n",
    "plt.show()"
   ]
  },
  {
   "cell_type": "code",
   "execution_count": null,
   "metadata": {},
   "outputs": [],
   "source": [
    "th, b_img = cv2.threshold(img, 0, 255, cv2.THRESH_BINARY + cv2.THRESH_OTSU)\n",
    "print(f\"Threshold:{th}\" )\n",
    "plt.imshow(b_img,cmap='grey')\n",
    "plt.show()"
   ]
  },
  {
   "cell_type": "code",
   "execution_count": null,
   "metadata": {},
   "outputs": [],
   "source": [
    "ksize = 3\n",
    "kernel = cv2.getStructuringElement(cv2.MORPH_RECT,(ksize,ksize))\n",
    "eroded_img = cv2.erode(b_img, kernel)\n",
    "\n",
    "plt.imshow(eroded_img, cmap='gray')\n",
    "plt.axis(False)\n",
    "plt.show()"
   ]
  },
  {
   "cell_type": "code",
   "execution_count": null,
   "metadata": {},
   "outputs": [],
   "source": [
    "num_labels, labeledImg = cv2.connectedComponents(eroded_img)\n",
    "\n",
    "num_grains = num_labels -1\n",
    "print(num_grains)"
   ]
  },
  {
   "cell_type": "code",
   "execution_count": null,
   "metadata": {},
   "outputs": [],
   "source": [
    "eroded_img_temp = eroded_img.copy()\n",
    "\n",
    "eroded_img_temp[labeledImg!=50] = 0\n",
    "plt.imshow(eroded_img_temp, cmap='gray')\n",
    "plt.axis(False)\n",
    "plt.show()"
   ]
  },
  {
   "cell_type": "code",
   "execution_count": null,
   "metadata": {},
   "outputs": [],
   "source": [
    "(minVal, maxVal, minLoc, maxLoc) = cv2.minMaxLoc(labeledImg)\n",
    "\n",
    "labeledImg = (255/(maxVal-minVal)) * (labeledImg - minVal)\n",
    "\n",
    "imgColorMap = cv2.applyColorMap(labeledImg.astype('uint8'), cv2.COLORMAP_RAINBOW)\n",
    "\n",
    "imgColorMap[labeledImg==0] = 0\n",
    "\n",
    "plt.imshow(imgColorMap[:,:,::-1])"
   ]
  }
 ],
 "metadata": {
  "kernelspec": {
   "display_name": "diffuser_cam",
   "language": "python",
   "name": "python3"
  },
  "language_info": {
   "codemirror_mode": {
    "name": "ipython",
    "version": 3
   },
   "file_extension": ".py",
   "mimetype": "text/x-python",
   "name": "python",
   "nbconvert_exporter": "python",
   "pygments_lexer": "ipython3",
   "version": "3.12.1"
  }
 },
 "nbformat": 4,
 "nbformat_minor": 2
}
